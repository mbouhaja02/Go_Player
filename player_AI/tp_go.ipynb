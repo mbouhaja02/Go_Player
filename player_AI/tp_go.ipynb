{
 "cells": [
  {
   "cell_type": "markdown",
   "metadata": {
    "id": "BzTfCbHzN1Wj"
   },
   "source": [
    "# Apprenez une heuristique pour le Go\n",
    "\n",
    "Dans ce **TP noté**, vous devrez déployer des methodes d'apprentissage automatique permettant d'évaluer la qualité de plateaux de GO.\n",
    "\n",
    "Pour cela, vous disposerez de 21854 exemples de plateau de Go, tous générés par `gnugo` après quelques coups contre lui même avec un niveau de difficulté de 0. Par chaque plateau, nous avons lancé 100 matchs de gnugo contre lui même, toujours avec un niveau 0, et compté le nombre de victoires de noir et de blanc depuis ce plateau.\n",
    "\n",
    "A noter, chaque \"rollout\" (un rollout et un déroulement possible du match depuis le plateau de référence) correspond à des mouvements choisis aléatoirement parmis les 10 meilleurs mouvements possibles, en biasant le choix aléatoire par la qualité prédite du mouvement par gnugo (les meilleurs mouvements ont une plus forte probabilité d'être tirés).\n",
    "\n",
    "Les données dont vous disposez sont brutes. Ce sera à vous de proposer un format adéquat pour utiliser ces données en entrée de votre réseau neuronal.\n",
    "\n",
    "\n",
    "## Comment sera évalué votre modèle ?\n",
    "\n",
    "Nous vous fournirons 6h avant la date de rendu un nouveau fichier contenant 1000 nouveaux exemples, qui ne contiendront pas les champs `black_wins`, `white_wins`, `black_points` et `white_points`. Vous devrez laisser, dans votre dépot de projet (votre dépot GIT sous un sous-répertoire ML) un fichier texte nommé `my_predictions.txt` ayant une prédiction par ligne (un simple flottant) qui donnera, dans le même ordre de la liste des exemples les scores que vous prédisez pour chacune des entrées du fichier que nous vous aurons donné. ** Les scores seront donnés sous forme d'un flottant, entre 0 et 1, donnant la probabilité de victoire de noir sur le plateau considéré **. Il faudra laisser, dans votre feuille notebook (voir tout en dessous) la cellule Python qui aura créé ce fichier, pour que l'on puisse éventuellement refaire vos prédictions.\n",
    "\n",
    "Bien entendu, vous nous rendrez également votre feuille jupyter **sous deux formats**, à la fois le fichier `.ipynb` et le fichier `.html` nous permettant de lire ce que vous avez fait, sans forcément relancer la feuille. Nous prendrons en compte les résultats obtenus sur les prédictions mais aussi le contenu de vos notebooks jupyter.\n",
    "\n",
    "### Comment sera noté ce TP ?\n",
    "\n",
    "**Il s'agit d'un TP noté (et non pas d'un projet), donc il ne faudra pas y passer trop de temps**. Nous attendons des prédictions correctes mais surtout des choix justifiés dans la feuille. Votre feuille notebook sera le plus important pour la notation (n'hésitez pas à mettre des cellules de texte pour expliquer pourquoi vous avez été amenés à faire certains choix). Ainsi, il serait bien d'avoir, par exemple, les données (graphiques ou autre) qui permettent de comprendre comment vous avez évité l'overfitting.\n",
    "\n",
    "Le fichier de vos prédiction sera évalué en se basant sur la qualité de vos prédictions. Nous mesurerons par exemple (juste pour vous donner une idée) le nombre d'exemples dont votre prédiction donnera la bonne valeur à 5%, 10%, 20%, 35%, 50% pour estimer sa qualité.\n",
    "\n",
    "\n",
    "## Mise en route !\n",
    "\n",
    "Voyons  comment lire les données\n"
   ]
  },
  {
   "cell_type": "code",
   "execution_count": 1,
   "metadata": {
    "colab": {
     "base_uri": "https://localhost:8080/"
    },
    "id": "IQyK1qLZN1Wl",
    "outputId": "5924f94d-5257-4361-8e84-e1f7dc050685"
   },
   "outputs": [
    {
     "name": "stdout",
     "output_type": "stream",
     "text": [
      "We have 41553 examples\n"
     ]
    }
   ],
   "source": [
    "# Import du fichier d'exemples\n",
    "\n",
    "def get_raw_data_go():\n",
    "    ''' Returns the set of samples from the local file or download it if it does not exists'''\n",
    "    import gzip, os.path\n",
    "    import json\n",
    "\n",
    "    raw_samples_file = \"samples-8x8.json.gz\"\n",
    "\n",
    "    if not os.path.isfile(raw_samples_file):\n",
    "        print(\"File\", raw_samples_file, \"not found, I am downloading it...\", end=\"\")\n",
    "        import urllib.request\n",
    "        urllib.request.urlretrieve (\"https://www.labri.fr/perso/lsimon/static/inge2-ia/samples-8x8.json.gz\", \"samples-8x8.json.gz\")\n",
    "        print(\" Done\")\n",
    "\n",
    "    with gzip.open(\"samples-8x8.json.gz\") as fz:\n",
    "        data = json.loads(fz.read().decode(\"utf-8\"))\n",
    "    return data\n",
    "\n",
    "data = get_raw_data_go()\n",
    "print(\"We have\", len(data),\"examples\")"
   ]
  },
  {
   "cell_type": "markdown",
   "metadata": {
    "id": "WaSjA3uPN1Wn"
   },
   "source": [
    "## Compréhension des données de chaque entrée\n",
    "\n",
    "Voici une description de chaque exemple"
   ]
  },
  {
   "cell_type": "code",
   "execution_count": 2,
   "metadata": {
    "colab": {
     "base_uri": "https://localhost:8080/"
    },
    "id": "oCKzso-aN1Wn",
    "outputId": "96be7d06-ba1a-4c17-9ae2-2970695125f5"
   },
   "outputs": [
    {
     "name": "stdout",
     "output_type": "stream",
     "text": [
      "Sample 10\n",
      "\n",
      "Données brutes en format JSON: {'depth': 39, 'list_of_moves': ['E5', 'C5', 'D3', 'F6', 'E3', 'E6', 'F5', 'D6', 'G6', 'G7', 'B4', 'C4', 'G5', 'B5', 'C3', 'B3', 'B2', 'A4', 'D4', 'A2', 'C1', 'H7', 'B1', 'A3', 'H6', 'D5', 'A1', 'F7', 'D2', 'E8', 'E4', 'E7', 'F2', 'G8', 'F3', 'A5', 'G4', 'PASS', 'H4'], 'black_stones': ['G6', 'H6', 'E5', 'F5', 'G5', 'D4', 'E4', 'G4', 'H4', 'C3', 'D3', 'E3', 'F3', 'B2', 'D2', 'F2', 'A1', 'B1', 'C1'], 'white_stones': ['E8', 'G8', 'E7', 'F7', 'G7', 'H7', 'D6', 'E6', 'F6', 'A5', 'B5', 'C5', 'D5', 'A4', 'C4', 'A3', 'B3', 'A2'], 'rollouts': 100, 'black_wins': 0, 'black_points': 0, 'white_wins': 0, 'white_points': 0}\n",
      "\n",
      "The sample was obtained after 39 moves\n",
      "The successive moves were ['E5', 'C5', 'D3', 'F6', 'E3', 'E6', 'F5', 'D6', 'G6', 'G7', 'B4', 'C4', 'G5', 'B5', 'C3', 'B3', 'B2', 'A4', 'D4', 'A2', 'C1', 'H7', 'B1', 'A3', 'H6', 'D5', 'A1', 'F7', 'D2', 'E8', 'E4', 'E7', 'F2', 'G8', 'F3', 'A5', 'G4', 'PASS', 'H4']\n",
      "After these moves and all the captures, there was black stones at the following position ['G6', 'H6', 'E5', 'F5', 'G5', 'D4', 'E4', 'G4', 'H4', 'C3', 'D3', 'E3', 'F3', 'B2', 'D2', 'F2', 'A1', 'B1', 'C1']\n",
      "After these moves and all the captures, there was white stones at the following position ['E8', 'G8', 'E7', 'F7', 'G7', 'H7', 'D6', 'E6', 'F6', 'A5', 'B5', 'C5', 'D5', 'A4', 'C4', 'A3', 'B3', 'A2']\n",
      "Number of rollouts (gnugo games played against itself from this position): 100\n",
      "Over these 100 games, black won 0 times with 0 total points over all this winning games\n",
      "Over these 100 games, white won 0 times with 0 total points over all this winning games\n"
     ]
    }
   ],
   "source": [
    "def summary_of_example(data, sample_nb):\n",
    "    ''' Gives you some insights about a sample number'''\n",
    "    sample = data[sample_nb]\n",
    "    print(\"Sample\", sample_nb)\n",
    "    print()\n",
    "    print(\"Données brutes en format JSON:\", sample)\n",
    "    print()\n",
    "    print(\"The sample was obtained after\", sample[\"depth\"], \"moves\")\n",
    "    print(\"The successive moves were\", sample[\"list_of_moves\"])\n",
    "    print(\"After these moves and all the captures, there was black stones at the following position\", sample[\"black_stones\"])\n",
    "    print(\"After these moves and all the captures, there was white stones at the following position\", sample[\"white_stones\"])\n",
    "    print(\"Number of rollouts (gnugo games played against itself from this position):\", sample[\"rollouts\"])\n",
    "    print(\"Over these\", sample[\"rollouts\"], \"games, black won\", sample[\"black_wins\"], \"times with\", sample[\"black_points\"], \"total points over all this winning games\")\n",
    "    print(\"Over these\", sample[\"rollouts\"], \"games, white won\", sample[\"white_wins\"], \"times with\", sample[\"white_points\"], \"total points over all this winning games\")\n",
    "\n",
    "summary_of_example(data,10)"
   ]
  },
  {
   "cell_type": "markdown",
   "metadata": {
    "id": "e-AdNZZEN1Wo"
   },
   "source": [
    "## Données en entrée et en sortie de votre modèle final\n",
    "\n",
    "Même si en interne, votre modèle va manipuler des tenseurs en numpy, vous devrez construire une boite noire qui prendra en entrée les données dans le style du JSON ci-dessous. Typiquement, vous aurez le même genre de fichier avec seulement les champs `black_stones`, `white_stones`, `depth` et `list_of_moves` de renseignées. Vous devrez utiliser ces champs, dont notemment les coordonnées des pierres noires et blanches et donner le pourcentage de chance pour noir de gagner depuis cette position.\n",
    "\n",
    "Ainsi, pour l'exemple `i` :\n",
    "- Vous pourrez prendez en entree `data[i][\"black_stones\"]` et `data[i][\"white_stones\"]` (vous pouvez, si vous le souhaitez, prendre en compte également `list_of_moves` ou tout autre donnée que vous calculerez vous-même (mais qui ne se basera évidemment pas sur les données que vous n'aurez pas lors de l'évaluation).\n",
    "- Vous devrez prédire simplement `data[i][\"black_wins\"]/data[i][\"rollouts\"]` en float (donc une valeur entre 0 et 1).\n",
    "\n",
    "Encore une fois, **attention** : en interne, il faudra absolument construire vos données formattées en matrices numpy pour faire votre entrainement. On vous demande juste ici d'écrire comment vous faites ces transformations, pour comprendre ce que vous avez décidé de mettre en entrée du réseau.\n",
    "\n",
    "Voici par exemple le modèle de la fonction qui pourra être appelée, au final :\n"
   ]
  },
  {
   "cell_type": "code",
   "execution_count": 4,
   "metadata": {
    "colab": {
     "base_uri": "https://localhost:8080/"
    },
    "id": "kxeEQ89HN1Wp",
    "outputId": "9956cdb6-ec15-4085-b917-bf89c169bf3b"
   },
   "outputs": [
    {
     "name": "stderr",
     "output_type": "stream",
     "text": [
      "2024-05-17 19:55:31.199791: I tensorflow/core/util/port.cc:113] oneDNN custom operations are on. You may see slightly different numerical results due to floating-point round-off errors from different computation orders. To turn them off, set the environment variable `TF_ENABLE_ONEDNN_OPTS=0`.\n",
      "2024-05-17 19:55:31.224486: I tensorflow/core/platform/cpu_feature_guard.cc:210] This TensorFlow binary is optimized to use available CPU instructions in performance-critical operations.\n",
      "To enable the following instructions: AVX2 AVX_VNNI FMA, in other operations, rebuild TensorFlow with the appropriate compiler flags.\n",
      "2024-05-17 19:55:31.651669: W tensorflow/compiler/tf2tensorrt/utils/py_utils.cc:38] TF-TRT Warning: Could not find TensorRT\n"
     ]
    },
    {
     "ename": "FileNotFoundError",
     "evalue": "[Errno 2] No such file or directory: 'death.pth'",
     "output_type": "error",
     "traceback": [
      "\u001b[0;31m---------------------------------------------------------------------------\u001b[0m",
      "\u001b[0;31mFileNotFoundError\u001b[0m                         Traceback (most recent call last)",
      "Cell \u001b[0;32mIn[4], line 10\u001b[0m\n\u001b[1;32m      5\u001b[0m \u001b[38;5;28;01mfrom\u001b[39;00m \u001b[38;5;21;01mkeras\u001b[39;00m\u001b[38;5;21;01m.\u001b[39;00m\u001b[38;5;21;01mmodels\u001b[39;00m \u001b[38;5;28;01mimport\u001b[39;00m load_model\n\u001b[1;32m      7\u001b[0m \u001b[38;5;66;03m# Assume ConvNet and other functions (get_data, name_to_coord) are already defined as provided earlier\u001b[39;00m\n\u001b[1;32m      8\u001b[0m \n\u001b[1;32m      9\u001b[0m \u001b[38;5;66;03m# Load the Keras model (assuming it was trained and saved as 'my_model.h5')\u001b[39;00m\n\u001b[0;32m---> 10\u001b[0m model \u001b[38;5;241m=\u001b[39m \u001b[43mtorch\u001b[49m\u001b[38;5;241;43m.\u001b[39;49m\u001b[43mload\u001b[49m\u001b[43m(\u001b[49m\u001b[38;5;124;43m'\u001b[39;49m\u001b[38;5;124;43mdeath.pth\u001b[39;49m\u001b[38;5;124;43m'\u001b[39;49m\u001b[43m)\u001b[49m\n\u001b[1;32m     12\u001b[0m \u001b[38;5;28;01mdef\u001b[39;00m \u001b[38;5;21mname_to_coord\u001b[39m(s):\n\u001b[1;32m     13\u001b[0m     \u001b[38;5;28;01massert\u001b[39;00m s \u001b[38;5;241m!=\u001b[39m \u001b[38;5;124m\"\u001b[39m\u001b[38;5;124mPASS\u001b[39m\u001b[38;5;124m\"\u001b[39m\n",
      "File \u001b[0;32m~/.venv/lib/python3.12/site-packages/torch/serialization.py:997\u001b[0m, in \u001b[0;36mload\u001b[0;34m(f, map_location, pickle_module, weights_only, mmap, **pickle_load_args)\u001b[0m\n\u001b[1;32m    994\u001b[0m \u001b[38;5;28;01mif\u001b[39;00m \u001b[38;5;124m'\u001b[39m\u001b[38;5;124mencoding\u001b[39m\u001b[38;5;124m'\u001b[39m \u001b[38;5;129;01mnot\u001b[39;00m \u001b[38;5;129;01min\u001b[39;00m pickle_load_args\u001b[38;5;241m.\u001b[39mkeys():\n\u001b[1;32m    995\u001b[0m     pickle_load_args[\u001b[38;5;124m'\u001b[39m\u001b[38;5;124mencoding\u001b[39m\u001b[38;5;124m'\u001b[39m] \u001b[38;5;241m=\u001b[39m \u001b[38;5;124m'\u001b[39m\u001b[38;5;124mutf-8\u001b[39m\u001b[38;5;124m'\u001b[39m\n\u001b[0;32m--> 997\u001b[0m \u001b[38;5;28;01mwith\u001b[39;00m \u001b[43m_open_file_like\u001b[49m\u001b[43m(\u001b[49m\u001b[43mf\u001b[49m\u001b[43m,\u001b[49m\u001b[43m \u001b[49m\u001b[38;5;124;43m'\u001b[39;49m\u001b[38;5;124;43mrb\u001b[39;49m\u001b[38;5;124;43m'\u001b[39;49m\u001b[43m)\u001b[49m \u001b[38;5;28;01mas\u001b[39;00m opened_file:\n\u001b[1;32m    998\u001b[0m     \u001b[38;5;28;01mif\u001b[39;00m _is_zipfile(opened_file):\n\u001b[1;32m    999\u001b[0m         \u001b[38;5;66;03m# The zipfile reader is going to advance the current file position.\u001b[39;00m\n\u001b[1;32m   1000\u001b[0m         \u001b[38;5;66;03m# If we want to actually tail call to torch.jit.load, we need to\u001b[39;00m\n\u001b[1;32m   1001\u001b[0m         \u001b[38;5;66;03m# reset back to the original position.\u001b[39;00m\n\u001b[1;32m   1002\u001b[0m         orig_position \u001b[38;5;241m=\u001b[39m opened_file\u001b[38;5;241m.\u001b[39mtell()\n",
      "File \u001b[0;32m~/.venv/lib/python3.12/site-packages/torch/serialization.py:444\u001b[0m, in \u001b[0;36m_open_file_like\u001b[0;34m(name_or_buffer, mode)\u001b[0m\n\u001b[1;32m    442\u001b[0m \u001b[38;5;28;01mdef\u001b[39;00m \u001b[38;5;21m_open_file_like\u001b[39m(name_or_buffer, mode):\n\u001b[1;32m    443\u001b[0m     \u001b[38;5;28;01mif\u001b[39;00m _is_path(name_or_buffer):\n\u001b[0;32m--> 444\u001b[0m         \u001b[38;5;28;01mreturn\u001b[39;00m \u001b[43m_open_file\u001b[49m\u001b[43m(\u001b[49m\u001b[43mname_or_buffer\u001b[49m\u001b[43m,\u001b[49m\u001b[43m \u001b[49m\u001b[43mmode\u001b[49m\u001b[43m)\u001b[49m\n\u001b[1;32m    445\u001b[0m     \u001b[38;5;28;01melse\u001b[39;00m:\n\u001b[1;32m    446\u001b[0m         \u001b[38;5;28;01mif\u001b[39;00m \u001b[38;5;124m'\u001b[39m\u001b[38;5;124mw\u001b[39m\u001b[38;5;124m'\u001b[39m \u001b[38;5;129;01min\u001b[39;00m mode:\n",
      "File \u001b[0;32m~/.venv/lib/python3.12/site-packages/torch/serialization.py:425\u001b[0m, in \u001b[0;36m_open_file.__init__\u001b[0;34m(self, name, mode)\u001b[0m\n\u001b[1;32m    424\u001b[0m \u001b[38;5;28;01mdef\u001b[39;00m \u001b[38;5;21m__init__\u001b[39m(\u001b[38;5;28mself\u001b[39m, name, mode):\n\u001b[0;32m--> 425\u001b[0m     \u001b[38;5;28msuper\u001b[39m()\u001b[38;5;241m.\u001b[39m\u001b[38;5;21m__init__\u001b[39m(\u001b[38;5;28;43mopen\u001b[39;49m\u001b[43m(\u001b[49m\u001b[43mname\u001b[49m\u001b[43m,\u001b[49m\u001b[43m \u001b[49m\u001b[43mmode\u001b[49m\u001b[43m)\u001b[49m)\n",
      "\u001b[0;31mFileNotFoundError\u001b[0m: [Errno 2] No such file or directory: 'death.pth'"
     ]
    }
   ],
   "source": [
    "import numpy as np\n",
    "import torch\n",
    "import torch.nn as nn\n",
    "import torch.optim as optim\n",
    "from keras.models import load_model\n",
    "\n",
    "# Assume ConvNet and other functions (get_data, name_to_coord) are already defined as provided earlier\n",
    "\n",
    "# Load the Keras model (assuming it was trained and saved as 'my_model.h5')\n",
    "model = torch.load('death.pth')\n",
    "\n",
    "def name_to_coord(s):\n",
    "    assert s != \"PASS\"\n",
    "    indexLetters = {'A': 0, 'B': 1, 'C': 2, 'D': 3, 'E': 4, 'F': 5, 'G': 6, 'H': 7}\n",
    "    col = indexLetters[s[0]]\n",
    "    lin = int(s[1:]) - 1\n",
    "    return col, lin\n",
    "\n",
    "def prepare_input(black_stones, white_stones):\n",
    "    x = np.zeros((2, 8, 8))\n",
    "    for stone in black_stones:\n",
    "        col, lin = name_to_coord(stone)\n",
    "        x[0, col, lin] = 1\n",
    "    for stone in white_stones:\n",
    "        col, lin = name_to_coord(stone)\n",
    "        x[1, col, lin] = 1\n",
    "    return x\n",
    "\n",
    "def position_predict(black_stones, white_stones):\n",
    "    # Préparer les données d'entrée\n",
    "    x = prepare_input(black_stones, white_stones)\n",
    "    x = torch.tensor(x, dtype=torch.float32).unsqueeze(0)  # Ajouter une dimension pour le batch\n",
    "\n",
    "    # Faire une prédiction avec le modèle PyTorch\n",
    "    with torch.no_grad():\n",
    "        prediction = model(x)\n",
    "    \n",
    "    return prediction\n",
    "# Par exemple, nous pourrons appeler votre prédiction ainsi\n",
    "\n",
    "print(\"Prediction this sample:\")\n",
    "summary_of_example(data, 10)\n",
    "print()\n",
    "prediction = position_predict(data[10][\"black_stones\"], data[10][\"white_stones\"])\n",
    "print(\"You predicted\", prediction, \"and the actual target was\", data[10][\"black_wins\"]/data[10][\"rollouts\"])\n",
    "\n",
    "# Ainsi, pour le rendu, en admettant que newdata soit la structure de données issue du json contenant les nouvelles données que\n",
    "# l'on vous donnera 24h avant la fin, vous pourrez construire le fichier resultat ainsi\n",
    "\n",
    "def create_result_file(newdata):\n",
    "    ''' Exemple de méthode permettant de générer le fichier de resultats demandés. '''\n",
    "    resultat  = [position_predict(d[\"black_stones\"], d[\"white_stones\"]) for d in newdata]\n",
    "    with open(\"my_predictions.txt\", \"w\") as f:\n",
    "         for p in resultat:\n",
    "            f.write(str(p)+\"\\n\")\n",
    "\n",
    "create_result_file(data)\n"
   ]
  },
  {
   "cell_type": "code",
   "execution_count": 231,
   "metadata": {
    "colab": {
     "base_uri": "https://localhost:8080/",
     "height": 944
    },
    "id": "sIGMJhBUN1Wq",
    "outputId": "5417c7ef-dbca-4891-ed17-e3d2c6d74968"
   },
   "outputs": [
    {
     "name": "stdout",
     "output_type": "stream",
     "text": [
      "The CDF curve shows that black has more chances to win, globally\n"
     ]
    },
    {
     "data": {
      "image/png": "[encoded data removed]",
      "text/plain": [
       "<Figure size 432x288 with 1 Axes>"
      ]
     },
     "metadata": {
      "needs_background": "light"
     },
     "output_type": "display_data"
    },
    {
     "data": {
      "image/png": "[encoded data removed]",
      "text/plain": [
       "<Figure size 432x288 with 1 Axes>"
      ]
     },
     "metadata": {
      "needs_background": "light"
     },
     "output_type": "display_data"
    }
   ],
   "source": [
    "%matplotlib inline\n",
    "import matplotlib.pyplot as plt\n",
    "\n",
    "plt.title(\"Relationship between the depth of the board and the chance for black to win\")\n",
    "plt.plot([sample[\"black_wins\"] for sample in data],[sample[\"depth\"] for sample in data], '.')\n",
    "plt.xlabel(\"black wins (percentage)\")\n",
    "plt.ylabel(\"depth of the game\")\n",
    "\n",
    "\n",
    "# Cumulative Distribution function of the chance of black to win\n",
    "cdf_wins = sorted([sample[\"black_wins\"] for sample in data])\n",
    "plt.figure()\n",
    "plt.plot([x/len(cdf_wins) for x in range(len(cdf_wins))], cdf_wins)\n",
    "plt.grid()\n",
    "plt.title(\"Cumulative Distribution function of the chance of black to win\")\n",
    "plt.xlabel(\"% of the samples with a chance of black to win below the y value\")\n",
    "plt.ylabel(\"Chance of black to win\")\n",
    "print(\"The CDF curve shows that black has more chances to win, globally\")"
   ]
  },
  {
   "cell_type": "markdown",
   "metadata": {
    "id": "uJn7gQooN1Wq"
   },
   "source": [
    "# First steps: transform all the data into numpy arrays to feed your neural network\n",
    "\n",
    "Advices:\n",
    "- do not use only a 9x9 matrix as input. Use at least two planes to encode the board. One plane for black and one plane for white (typically with a 1 if there is a black stone for the first plane and with a 1 if there is a white stone for the second plane). The dimension of an input should be at least `[2,9,9]`. In Torch, the Conv2d method needs inputs as `[NBatch, Channels, H, W]`.\n",
    "- consider to enrich your dataset with all symmetries and rotations. You should be able to multiply the number of samples to consider: any rotation of the board should have the same score, right?. You can use `np.rot90` to rotate your boards be beware of the dimensions (the channel is not the last dimension), so you may want to use `np.moveaxis()` to force the channels to be the last dimension, then call it again to make it the second one.\n",
    "- what should happen on the score if you switch the colors? To know which player has to play next, you can check, for a sample, the parity of the length of the list `data[i][\"list_of_moves\"]` (an odd length list would mean that white is the next player. An even length list means that black has to play).\n",
    "- work on enlarging and preparing your data only once. Once all you input data is setup as a big Numpy matrix, you may want to save it for speeding up everything. You can use, for instance `numpy.rot90()` and `numpy.flipud()` to generate all the symmetries\n",
    "\n"
   ]
  },
  {
   "cell_type": "markdown",
   "metadata": {},
   "source": [
    "RENDU\n",
    "\n",
    "\n"
   ]
  },
  {
   "cell_type": "markdown",
   "metadata": {},
   "source": [
    "La fonction `get_data` prépare les données pour l'apprentissage en :\n",
    "\n",
    "- **Augmentant la variabilité** : En générant des données augmentées avec des transformations aléatoires.\n",
    "- **Extrait et encode** : Les positions des pierres et les étiquettes de victoire pour chaque joueur.\n",
    "- **Équilibre les classes** : Pour éviter tout biais dans l'apprentissage.\n",
    "- **Mélange les données** : Pour introduire de l'aléatoire dans l'ordre des échantillons.\n"
   ]
  },
  {
   "cell_type": "code",
   "execution_count": 5,
   "metadata": {
    "id": "tdT6ucKcN1Wr"
   },
   "outputs": [
    {
     "name": "stdout",
     "output_type": "stream",
     "text": [
      "(378240, 2, 8, 8) (378240, 1)\n"
     ]
    }
   ],
   "source": [
    "import torchvision.transforms as transforms\n",
    "import numpy as np\n",
    "import torch\n",
    "def name_to_coord(s):\n",
    "    assert s != \"PASS\"\n",
    "    indexLetters = {'A':0, 'B':1, 'C':2, 'D':3, 'E':4, 'F':5, 'G':6, 'H':7}\n",
    "\n",
    "    col = indexLetters[s[0]]\n",
    "    lin = int(s[1:]) - 1\n",
    "    return col, lin\n",
    "\n",
    "data_transform = transforms.Compose([\n",
    "    transforms.RandomRotation(10),\n",
    "    transforms.RandomHorizontalFlip(),\n",
    "    transforms.RandomVerticalFlip(),\n",
    "])\n",
    "\n",
    "def augment_data(x):\n",
    "    augmented_data = []\n",
    "    for _ in range(6):\n",
    "        channels = []\n",
    "        for i in range(x.shape[0]): \n",
    "            tensor_x = torch.tensor(x[i], dtype=torch.float32)  \n",
    "            tensor_x = tensor_x.unsqueeze(0)\n",
    "            pil_image = transforms.ToPILImage()(tensor_x) \n",
    "            augmented_pil = data_transform(pil_image) \n",
    "            augmented_tensor = transforms.ToTensor()(augmented_pil)  \n",
    "            channels.append(augmented_tensor.squeeze(0)) \n",
    "        augmented_data.append(torch.stack(channels).numpy())  \n",
    "\n",
    "    return augmented_data\n",
    "\n",
    "def get_data(data):\n",
    "    X_black_wins = []\n",
    "    Y_black_wins = []\n",
    "    X_white_wins = []\n",
    "    Y_white_wins = []\n",
    "\n",
    "    for elt in data:\n",
    "        x = np.zeros((2, 8, 8))\n",
    "        for i, stone in enumerate(elt['list_of_moves']):\n",
    "            if stone != 'PASS':\n",
    "                x[i % 2, name_to_coord(stone)[0], name_to_coord(stone)[1]] = 1\n",
    "        \n",
    "        y_black = elt['black_wins'] / elt['rollouts']\n",
    "        y_white = 1 - y_black\n",
    "\n",
    "        augmentations = augment_data(x)\n",
    "        \n",
    "        if y_black > 0.5:\n",
    "            for aug in augmentations:\n",
    "                X_black_wins.append(aug)\n",
    "                Y_black_wins.append([y_black])\n",
    "        else:\n",
    "            for aug in augmentations:\n",
    "                X_white_wins.append(aug)\n",
    "                Y_white_wins.append([y_white])\n",
    "    len_black_wins = len(X_black_wins)\n",
    "    len_white_wins = len(X_white_wins)\n",
    "    \n",
    "    if len_black_wins > len_white_wins:\n",
    "        difference = len_black_wins - len_white_wins\n",
    "        additional_white_samples = np.random.choice(len_white_wins, difference, replace=True)\n",
    "        for index in additional_white_samples:\n",
    "            X_white_wins.append(X_white_wins[index])\n",
    "            Y_white_wins.append(Y_white_wins[index])\n",
    "    else:\n",
    "        difference = len_white_wins - len_black_wins\n",
    "        additional_black_samples = np.random.choice(len_black_wins, difference, replace=True)\n",
    "        for index in additional_black_samples:\n",
    "            X_black_wins.append(X_black_wins[index])\n",
    "            Y_black_wins.append(Y_black_wins[index])\n",
    "    \n",
    "    X_balanced = X_black_wins + X_white_wins\n",
    "    Y_balanced = Y_black_wins + Y_white_wins\n",
    "    combined = list(zip(X_balanced, Y_balanced))\n",
    "    np.random.shuffle(combined)\n",
    "    X_balanced, Y_balanced = zip(*combined)\n",
    "    \n",
    "    return np.array(X_balanced), np.array(Y_balanced)\n",
    "\n",
    "X,Y = get_data(data)\n",
    "print(X.shape, Y.shape)\n",
    "\n"
   ]
  },
  {
   "cell_type": "markdown",
   "metadata": {},
   "source": [
    "Spliting the data "
   ]
  },
  {
   "cell_type": "markdown",
   "metadata": {},
   "source": [
    "Ce code est crucial pour la préparation des données avant l'entraînement de notre modèle de réseau de neurones:\n",
    "\n",
    "- **Division des données** : Les données sont segmentées en ensembles d'entraînement, de validation et de test\n",
    "  \n",
    "- **Réorganisation des données** : Les données sont remodelées pour correspondre au format attendu par PyTorch : chaque échantillon est une image de taille 8x8 avec 2 canaux.\n",
    "\n",
    "- **Création de jeux de données** : Les données sont regroupées en jeux de données PyTorch à l'aide de la classe `TensorDataset`.\n",
    "\n",
    "- **Création de chargeurs de données** : Des chargeurs de données (`DataLoader`) sont créés à partir des jeux de données. Ces chargeurs permettent d'itérer efficacement sur les données pendant l'entraînement du modèle.\n"
   ]
  },
  {
   "cell_type": "code",
   "execution_count": 7,
   "metadata": {},
   "outputs": [],
   "source": [
    "import numpy as np\n",
    "import torch\n",
    "import torch.nn as nn\n",
    "import torch.optim as optim\n",
    "import torch.utils\n",
    "from torch.utils.data import random_split,TensorDataset,DataLoader\n",
    "from sklearn.model_selection import train_test_split\n",
    "from torchsummary import summary\n",
    "import tqdm\n",
    "import torch.nn.functional as F\n",
    "\n",
    "device = 'cpu'\n",
    "\n",
    "X_train,X_test,Y_train,Y_test = train_test_split(X,Y,test_size=0.33)\n",
    "X_train,X_val,Y_train,Y_val = train_test_split(X_train,Y_train,test_size=0.33)\n",
    "\n",
    "X_train = X_train.reshape(X_train.shape[0],2,8,8)\n",
    "X_val = X_val.reshape(X_val.shape[0],2,8,8)\n",
    "X_test = X_test.reshape(X_test.shape[0],2,8,8)\n",
    "\n",
    "train_data = TensorDataset(torch.from_numpy(X_train).to(device), torch.from_numpy(Y_train).to(device))\n",
    "test_data = TensorDataset(torch.from_numpy(X_test).to(device), torch.from_numpy(Y_test).to(device))\n",
    "train_loader = DataLoader(train_data, batch_size=200, shuffle=True)\n",
    "test_loader = DataLoader(test_data, batch_size=200, shuffle=True)"
   ]
  },
  {
   "cell_type": "markdown",
   "metadata": {
    "id": "KbzFMh-UN1Wr"
   },
   "source": [
    "# Second steps: build your neural network and train it\n",
    "\n",
    "Don't forget to check overfitting, ...\n",
    "\n",
    "*advices* :\n",
    "- you may need to use some of the `torch.nn` layers: `Linear`, `Conv2d`, `ReLU`, `LeakyReLU`, `BatchNorm2d`, `Flatten`, `Dropout`... But you can of course first build a very simple one (and just pick some of them)...\n",
    "- if you use convolution layers, be sure **not to downsize your board**. Applying a filter should keep the original size of the board (9x9), otherwise you would somehow forget the stones on the borders\n",
    "- you will use like 33% of your input sample for validation. However, the final goal is to score new data that will be given in addition to the actual data. So, you should use the 33% splitting rule to set up your network architecture and, once you fixed it, you should train your final model on the whole set of data, crossing your fingers that it will generalize well.\n",
    "- Warning: if you run a few epoch, and run it again for some more epochs, it will not reset the weights and the biases of your neural network. It's good news because you can add more and more epochs to your model, but be careful about the training/test sets (do split your sets before you initialize your model). Or you will be breaking your validation/training partition!\n"
   ]
  },
  {
   "cell_type": "markdown",
   "metadata": {},
   "source": [
    "- **Couches de convolution** : Utilisation de `nn.Conv2d` pour extraire des caractéristiques spatiales des images.\n",
    "- **Normalisation par lots** : `nn.BatchNorm2d` pour stabiliser l'entraînement et améliorer la généralisation.\n",
    "- **Activation ReLU** : `nn.ReLU` introduit une non-linéarité pour apprendre des représentations complexes.\n",
    "- **Couches entièrement connectées** : `nn.Linear` pour la classification finale avec des dimensions adaptées à la tâche.\n",
    "- **Dropout** : `nn.Dropout` pour réduire le surajustement en désactivant aléatoirement des neurones.\n",
    "- **Activation Sigmoid** : `nn.Sigmoid` produit une sortie dans l'intervalle [0, 1] pour la classification binaire.\n"
   ]
  },
  {
   "cell_type": "code",
   "execution_count": 8,
   "metadata": {
    "id": "IQ1siAgaN1Ws"
   },
   "outputs": [],
   "source": [
    "\n",
    "class Network(nn.Module):\n",
    "    def __init__(self):\n",
    "        super(Network, self).__init__()\n",
    "        \n",
    "        self.conv_layers = nn.Sequential(\n",
    "            nn.Conv2d(2, 32, kernel_size=3, padding=1),\n",
    "            nn.BatchNorm2d(32),\n",
    "            nn.ReLU(),\n",
    "            nn.Conv2d(32, 64, kernel_size=3, padding=1),\n",
    "            nn.BatchNorm2d(64),\n",
    "            nn.ReLU(),\n",
    "            nn.Conv2d(64, 128, kernel_size=3, padding=1),\n",
    "            nn.BatchNorm2d(128),\n",
    "            nn.ReLU()\n",
    "        )\n",
    "        \n",
    "        self.fc_layers = nn.Sequential(\n",
    "            nn.Linear(128 * 8 * 8, 512),\n",
    "            nn.ReLU(),\n",
    "            nn.Dropout(p=0.5),\n",
    "            nn.Linear(512, 256),\n",
    "            nn.ReLU(),\n",
    "            nn.Dropout(p=0.5),\n",
    "            nn.Linear(256, 64),\n",
    "            nn.ReLU(),\n",
    "            nn.Dropout(p=0.5),\n",
    "            nn.Linear(64, 32),\n",
    "            nn.ReLU(),\n",
    "            nn.Dropout(p=0.5),\n",
    "            nn.Linear(32, 1),\n",
    "            nn.Sigmoid()\n",
    "        )\n",
    "\n",
    "    def forward(self, x):\n",
    "        x = self.conv_layers(x)\n",
    "        x = x.view(-1, 128 * 8 * 8)\n",
    "        x = self.fc_layers(x)\n",
    "        return x\n",
    "\n",
    "\n",
    "    \n",
    "\n",
    "def train_model(model, train_loader, test_loader, optimizer, criterion, num_epochs):\n",
    "    train_losses = []\n",
    "    test_losses = []\n",
    "    \n",
    "    for epoch in range(num_epochs):\n",
    "        train_loss = 0\n",
    "        test_loss = 0\n",
    "        model.train()\n",
    "        for inputs, targets in tqdm.tqdm(train_loader, desc=f\"Epoch {epoch+1}/{num_epochs} - Training\"):\n",
    "            optimizer.zero_grad()\n",
    "            outputs = model(inputs.float())\n",
    "            loss = criterion(outputs, targets.float().unsqueeze(1))\n",
    "            loss.backward()\n",
    "            optimizer.step()\n",
    "            train_loss += loss.item()\n",
    "        train_losses.append(train_loss / len(train_loader))\n",
    "        \n",
    "        model.eval()  \n",
    "        total_test_samples = 0  \n",
    "        with torch.no_grad():\n",
    "            for inputs, targets in tqdm.tqdm(test_loader, desc=f\"Epoch {epoch+1}/{num_epochs} - Validation\"):\n",
    "                outputs = model(inputs.float())\n",
    "                loss = criterion(outputs, targets.float().unsqueeze(1))\n",
    "                test_loss += loss.item()\n",
    "                total_test_samples += len(targets) \n",
    "        test_losses.append(test_loss / total_test_samples)  \n",
    "        \n",
    "        print(f'Epoch {epoch + 1}/{num_epochs}, Train Loss: {train_losses[-1]:.4f}, Test Loss: {test_losses[-1]:.4f}')\n",
    "    \n",
    "    return train_losses, test_losses\n",
    "\n"
   ]
  },
  {
   "cell_type": "markdown",
   "metadata": {},
   "source": [
    "La fonction `train_model` entraîne un modèle de réseau de neurones sur les données d'entraînement, évalue sa performance sur les données de test à chaque époque, calcule et affiche les pertes d'entraînement et de test pour surveiller l'entraînement et évaluer la performance du modèle.\n"
   ]
  },
  {
   "cell_type": "markdown",
   "metadata": {},
   "source": [
    "Preparing the model\n",
    "\n"
   ]
  },
  {
   "cell_type": "code",
   "execution_count": 9,
   "metadata": {},
   "outputs": [
    {
     "name": "stdout",
     "output_type": "stream",
     "text": [
      "----------------------------------------------------------------\n",
      "        Layer (type)               Output Shape         Param #\n",
      "================================================================\n",
      "            Conv2d-1             [-1, 32, 8, 8]             608\n",
      "       BatchNorm2d-2             [-1, 32, 8, 8]              64\n",
      "              ReLU-3             [-1, 32, 8, 8]               0\n",
      "            Conv2d-4             [-1, 64, 8, 8]          18,496\n",
      "       BatchNorm2d-5             [-1, 64, 8, 8]             128\n",
      "              ReLU-6             [-1, 64, 8, 8]               0\n",
      "            Conv2d-7            [-1, 128, 8, 8]          73,856\n",
      "       BatchNorm2d-8            [-1, 128, 8, 8]             256\n",
      "              ReLU-9            [-1, 128, 8, 8]               0\n",
      "           Linear-10                  [-1, 512]       4,194,816\n",
      "             ReLU-11                  [-1, 512]               0\n",
      "          Dropout-12                  [-1, 512]               0\n",
      "           Linear-13                  [-1, 256]         131,328\n",
      "             ReLU-14                  [-1, 256]               0\n",
      "          Dropout-15                  [-1, 256]               0\n",
      "           Linear-16                   [-1, 64]          16,448\n",
      "             ReLU-17                   [-1, 64]               0\n",
      "          Dropout-18                   [-1, 64]               0\n",
      "           Linear-19                   [-1, 32]           2,080\n",
      "             ReLU-20                   [-1, 32]               0\n",
      "          Dropout-21                   [-1, 32]               0\n",
      "           Linear-22                    [-1, 1]              33\n",
      "          Sigmoid-23                    [-1, 1]               0\n",
      "================================================================\n",
      "Total params: 4,438,113\n",
      "Trainable params: 4,438,113\n",
      "Non-trainable params: 0\n",
      "----------------------------------------------------------------\n",
      "Input size (MB): 0.00\n",
      "Forward/backward pass size (MB): 0.35\n",
      "Params size (MB): 16.93\n",
      "Estimated Total Size (MB): 17.28\n",
      "----------------------------------------------------------------\n"
     ]
    }
   ],
   "source": [
    "model = Network()\n",
    "\n",
    "criterion = nn.MSELoss()\n",
    "optimizer = optim.Adam(model.parameters())\n",
    "summary(model, (2,8,8), device=device)"
   ]
  },
  {
   "cell_type": "markdown",
   "metadata": {},
   "source": [
    "Training\n"
   ]
  },
  {
   "cell_type": "code",
   "execution_count": 10,
   "metadata": {},
   "outputs": [
    {
     "name": "stderr",
     "output_type": "stream",
     "text": [
      "Epoch 1/10 - Training:   0%|                                                                    | 0/849 [00:00<?, ?it/s]/home/msandi/.venv/lib/python3.12/site-packages/torch/nn/modules/loss.py:535: UserWarning: Using a target size (torch.Size([200, 1, 1])) that is different to the input size (torch.Size([200, 1])). This will likely lead to incorrect results due to broadcasting. Please ensure they have the same size.\n",
      "  return F.mse_loss(input, target, reduction=self.reduction)\n",
      "Epoch 1/10 - Training: 100%|█████████████████████████████████████████████████████████▊| 847/849 [00:30<00:00, 20.30it/s]/home/msandi/.venv/lib/python3.12/site-packages/torch/nn/modules/loss.py:535: UserWarning: Using a target size (torch.Size([191, 1, 1])) that is different to the input size (torch.Size([191, 1])). This will likely lead to incorrect results due to broadcasting. Please ensure they have the same size.\n",
      "  return F.mse_loss(input, target, reduction=self.reduction)\n",
      "Epoch 1/10 - Training: 100%|██████████████████████████████████████████████████████████| 849/849 [00:30<00:00, 27.82it/s]\n",
      "Epoch 1/10 - Validation: 100%|██████████████████████████████████████████████████████▋| 622/625 [00:05<00:00, 102.87it/s]/home/msandi/.venv/lib/python3.12/site-packages/torch/nn/modules/loss.py:535: UserWarning: Using a target size (torch.Size([20, 1, 1])) that is different to the input size (torch.Size([20, 1])). This will likely lead to incorrect results due to broadcasting. Please ensure they have the same size.\n",
      "  return F.mse_loss(input, target, reduction=self.reduction)\n",
      "Epoch 1/10 - Validation: 100%|███████████████████████████████████████████████████████| 625/625 [00:05<00:00, 105.31it/s]\n"
     ]
    },
    {
     "name": "stdout",
     "output_type": "stream",
     "text": [
      "Epoch 1/10, Train Loss: 0.0362, Test Loss: 0.0002\n"
     ]
    },
    {
     "name": "stderr",
     "output_type": "stream",
     "text": [
      "Epoch 2/10 - Training: 100%|██████████████████████████████████████████████████████████| 849/849 [00:43<00:00, 19.33it/s]\n",
      "Epoch 2/10 - Validation: 100%|███████████████████████████████████████████████████████| 625/625 [00:05<00:00, 112.21it/s]\n"
     ]
    },
    {
     "name": "stdout",
     "output_type": "stream",
     "text": [
      "Epoch 2/10, Train Loss: 0.0327, Test Loss: 0.0002\n"
     ]
    },
    {
     "name": "stderr",
     "output_type": "stream",
     "text": [
      "Epoch 3/10 - Training: 100%|██████████████████████████████████████████████████████████| 849/849 [00:43<00:00, 19.44it/s]\n",
      "Epoch 3/10 - Validation: 100%|███████████████████████████████████████████████████████| 625/625 [00:05<00:00, 111.08it/s]\n"
     ]
    },
    {
     "name": "stdout",
     "output_type": "stream",
     "text": [
      "Epoch 3/10, Train Loss: 0.0321, Test Loss: 0.0002\n"
     ]
    },
    {
     "name": "stderr",
     "output_type": "stream",
     "text": [
      "Epoch 4/10 - Training: 100%|██████████████████████████████████████████████████████████| 849/849 [00:43<00:00, 19.32it/s]\n",
      "Epoch 4/10 - Validation: 100%|███████████████████████████████████████████████████████| 625/625 [00:05<00:00, 112.46it/s]\n"
     ]
    },
    {
     "name": "stdout",
     "output_type": "stream",
     "text": [
      "Epoch 4/10, Train Loss: 0.0318, Test Loss: 0.0002\n"
     ]
    },
    {
     "name": "stderr",
     "output_type": "stream",
     "text": [
      "Epoch 5/10 - Training: 100%|██████████████████████████████████████████████████████████| 849/849 [00:44<00:00, 19.29it/s]\n",
      "Epoch 5/10 - Validation: 100%|███████████████████████████████████████████████████████| 625/625 [00:05<00:00, 106.68it/s]\n"
     ]
    },
    {
     "name": "stdout",
     "output_type": "stream",
     "text": [
      "Epoch 5/10, Train Loss: 0.0316, Test Loss: 0.0002\n"
     ]
    },
    {
     "name": "stderr",
     "output_type": "stream",
     "text": [
      "Epoch 6/10 - Training: 100%|██████████████████████████████████████████████████████████| 849/849 [00:44<00:00, 19.21it/s]\n",
      "Epoch 6/10 - Validation: 100%|███████████████████████████████████████████████████████| 625/625 [00:05<00:00, 107.85it/s]\n"
     ]
    },
    {
     "name": "stdout",
     "output_type": "stream",
     "text": [
      "Epoch 6/10, Train Loss: 0.0315, Test Loss: 0.0002\n"
     ]
    },
    {
     "name": "stderr",
     "output_type": "stream",
     "text": [
      "Epoch 7/10 - Training: 100%|██████████████████████████████████████████████████████████| 849/849 [00:44<00:00, 19.13it/s]\n",
      "Epoch 7/10 - Validation: 100%|███████████████████████████████████████████████████████| 625/625 [00:05<00:00, 104.54it/s]\n"
     ]
    },
    {
     "name": "stdout",
     "output_type": "stream",
     "text": [
      "Epoch 7/10, Train Loss: 0.0314, Test Loss: 0.0002\n"
     ]
    },
    {
     "name": "stderr",
     "output_type": "stream",
     "text": [
      "Epoch 8/10 - Training: 100%|██████████████████████████████████████████████████████████| 849/849 [00:44<00:00, 18.96it/s]\n",
      "Epoch 8/10 - Validation: 100%|███████████████████████████████████████████████████████| 625/625 [00:05<00:00, 104.27it/s]\n"
     ]
    },
    {
     "name": "stdout",
     "output_type": "stream",
     "text": [
      "Epoch 8/10, Train Loss: 0.0314, Test Loss: 0.0002\n"
     ]
    },
    {
     "name": "stderr",
     "output_type": "stream",
     "text": [
      "Epoch 9/10 - Training: 100%|██████████████████████████████████████████████████████████| 849/849 [00:43<00:00, 19.36it/s]\n",
      "Epoch 9/10 - Validation: 100%|███████████████████████████████████████████████████████| 625/625 [00:05<00:00, 107.06it/s]\n"
     ]
    },
    {
     "name": "stdout",
     "output_type": "stream",
     "text": [
      "Epoch 9/10, Train Loss: 0.0314, Test Loss: 0.0002\n"
     ]
    },
    {
     "name": "stderr",
     "output_type": "stream",
     "text": [
      "Epoch 10/10 - Training: 100%|█████████████████████████████████████████████████████████| 849/849 [00:44<00:00, 19.10it/s]\n",
      "Epoch 10/10 - Validation: 100%|██████████████████████████████████████████████████████| 625/625 [00:05<00:00, 110.29it/s]"
     ]
    },
    {
     "name": "stdout",
     "output_type": "stream",
     "text": [
      "Epoch 10/10, Train Loss: 0.0314, Test Loss: 0.0002\n"
     ]
    },
    {
     "name": "stderr",
     "output_type": "stream",
     "text": [
      "\n"
     ]
    }
   ],
   "source": [
    "num_epochs = 10\n",
    "train_losses, test_losses = train_model(model, train_loader, test_loader, optimizer, criterion, num_epochs)\n"
   ]
  },
  {
   "cell_type": "markdown",
   "metadata": {},
   "source": [
    "Saving"
   ]
  },
  {
   "cell_type": "code",
   "execution_count": 11,
   "metadata": {},
   "outputs": [],
   "source": [
    "torch.save(model, 'death.pth')"
   ]
  },
  {
   "cell_type": "markdown",
   "metadata": {},
   "source": [
    "Graphe\n"
   ]
  },
  {
   "cell_type": "code",
   "execution_count": 15,
   "metadata": {},
   "outputs": [
    {
     "data": {
      "image/png": "[encoded data removed]",
      "text/plain": [
       "<Figure size 1000x500 with 1 Axes>"
      ]
     },
     "metadata": {},
     "output_type": "display_data"
    }
   ],
   "source": [
    "\n",
    "import matplotlib.pyplot as plt\n",
    "plt.figure(figsize=(10, 5))\n",
    "plt.plot(train_losses, label='Train Loss')\n",
    "plt.xlabel('Epoch')\n",
    "plt.ylabel('Loss')\n",
    "plt.title('Train and Test Loss over Epochs')\n",
    "plt.legend()\n",
    "plt.show()"
   ]
  },
  {
   "cell_type": "markdown",
   "metadata": {
    "id": "bVnqHnBqN1Ws"
   },
   "source": [
    "# Last step\n",
    "\n",
    "Prepare your model to predict the set of new data to predict, you will have only 6 hours to push your predictions.\n",
    "\n",
    "(may be you would like to express, when guessing the percentage of wins for blacks, that it should reflect the fact that this score should be the same for all the symmetries you considered)..."
   ]
  },
  {
   "cell_type": "code",
   "execution_count": 13,
   "metadata": {
    "id": "39RJHPbmN1Ws"
   },
   "outputs": [
    {
     "name": "stdout",
     "output_type": "stream",
     "text": [
      "File positions-to-evaluate-8x8.json.gz not found, I am downloading it... Done\n",
      "We have 1000 positions\n"
     ]
    },
    {
     "ename": "NameError",
     "evalue": "name 'position_predict' is not defined",
     "output_type": "error",
     "traceback": [
      "\u001b[0;31m---------------------------------------------------------------------------\u001b[0m",
      "\u001b[0;31mNameError\u001b[0m                                 Traceback (most recent call last)",
      "Cell \u001b[0;32mIn[13], line 29\u001b[0m\n\u001b[1;32m     26\u001b[0m             prediction \u001b[38;5;241m=\u001b[39m position_predict(d[\u001b[38;5;124m\"\u001b[39m\u001b[38;5;124mblack_stones\u001b[39m\u001b[38;5;124m\"\u001b[39m], d[\u001b[38;5;124m\"\u001b[39m\u001b[38;5;124mwhite_stones\u001b[39m\u001b[38;5;124m\"\u001b[39m])\n\u001b[1;32m     27\u001b[0m             f\u001b[38;5;241m.\u001b[39mwrite(\u001b[38;5;28mstr\u001b[39m(prediction\u001b[38;5;241m.\u001b[39mitem()) \u001b[38;5;241m+\u001b[39m \u001b[38;5;124m\"\u001b[39m\u001b[38;5;130;01m\\n\u001b[39;00m\u001b[38;5;124m\"\u001b[39m)\n\u001b[0;32m---> 29\u001b[0m \u001b[43mcreate_result_file\u001b[49m\u001b[43m(\u001b[49m\u001b[43mdata\u001b[49m\u001b[43m)\u001b[49m\n",
      "Cell \u001b[0;32mIn[13], line 26\u001b[0m, in \u001b[0;36mcreate_result_file\u001b[0;34m(newdata)\u001b[0m\n\u001b[1;32m     24\u001b[0m \u001b[38;5;28;01mwith\u001b[39;00m \u001b[38;5;28mopen\u001b[39m(\u001b[38;5;124m\"\u001b[39m\u001b[38;5;124mmy_predictions.txt\u001b[39m\u001b[38;5;124m\"\u001b[39m, \u001b[38;5;124m\"\u001b[39m\u001b[38;5;124mw\u001b[39m\u001b[38;5;124m\"\u001b[39m) \u001b[38;5;28;01mas\u001b[39;00m f:\n\u001b[1;32m     25\u001b[0m     \u001b[38;5;28;01mfor\u001b[39;00m d \u001b[38;5;129;01min\u001b[39;00m newdata:\n\u001b[0;32m---> 26\u001b[0m         prediction \u001b[38;5;241m=\u001b[39m \u001b[43mposition_predict\u001b[49m(d[\u001b[38;5;124m\"\u001b[39m\u001b[38;5;124mblack_stones\u001b[39m\u001b[38;5;124m\"\u001b[39m], d[\u001b[38;5;124m\"\u001b[39m\u001b[38;5;124mwhite_stones\u001b[39m\u001b[38;5;124m\"\u001b[39m])\n\u001b[1;32m     27\u001b[0m         f\u001b[38;5;241m.\u001b[39mwrite(\u001b[38;5;28mstr\u001b[39m(prediction\u001b[38;5;241m.\u001b[39mitem()) \u001b[38;5;241m+\u001b[39m \u001b[38;5;124m\"\u001b[39m\u001b[38;5;130;01m\\n\u001b[39;00m\u001b[38;5;124m\"\u001b[39m)\n",
      "\u001b[0;31mNameError\u001b[0m: name 'position_predict' is not defined"
     ]
    }
   ],
   "source": [
    "def get_raw_data_go():\n",
    "    ''' Returns the set of samples from the local file or download it if it does not exists'''\n",
    "    import gzip, os.path\n",
    "    import json\n",
    "\n",
    "    raw_samples_file = \"positions-to-evaluate-8x8.json.gz\"\n",
    "\n",
    "    if not os.path.isfile(raw_samples_file):\n",
    "        print(\"File\", raw_samples_file, \"not found, I am downloading it...\", end=\"\")\n",
    "        import urllib.request\n",
    "        urllib.request.urlretrieve (\"https://www.labri.fr/perso/lsimon/static/inge2-ia/positions-to-evaluate-8x8.json.gz\", \"positions-to-evaluate-8x8.json.gz\")\n",
    "        print(\" Done\")\n",
    "\n",
    "    with gzip.open(\"positions-to-evaluate-8x8.json.gz\") as fz:\n",
    "        data = json.loads(fz.read().decode(\"utf-8\"))\n",
    "    return data\n",
    "\n",
    "data = get_raw_data_go()\n",
    "print(\"We have\", len(data),\"positions\")\n",
    "\n",
    "\n",
    "def create_result_file(newdata):\n",
    "    ''' Exemple de méthode permettant de générer le fichier de resultats demandés. '''\n",
    "    with open(\"my_predictions.txt\", \"w\") as f:\n",
    "        for d in newdata:\n",
    "            prediction = position_predict(d[\"black_stones\"], d[\"white_stones\"])\n",
    "            f.write(str(prediction.item()) + \"\\n\")\n",
    "\n",
    "create_result_file(data)\n"
   ]
  },
  {
   "cell_type": "code",
   "execution_count": null,
   "metadata": {},
   "outputs": [],
   "source": []
  }
 ],
 "metadata": {
  "colab": {
   "provenance": []
  },
  "kernelspec": {
   "display_name": "Python 3 (ipykernel)",
   "language": "python",
   "name": "python3"
  },
  "language_info": {
   "codemirror_mode": {
    "name": "ipython",
    "version": 3
   },
   "file_extension": ".py",
   "mimetype": "text/x-python",
   "name": "python",
   "nbconvert_exporter": "python",
   "pygments_lexer": "ipython3",
   "version": "3.12.3"
  }
 },
 "nbformat": 4,
 "nbformat_minor": 4
}
